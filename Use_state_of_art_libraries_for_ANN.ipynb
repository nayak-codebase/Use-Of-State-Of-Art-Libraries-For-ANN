{
  "nbformat": 4,
  "nbformat_minor": 0,
  "metadata": {
    "colab": {
      "name": "Use_state_of_art_libraries_for_ANN.ipynb",
      "provenance": [],
      "toc_visible": true
    },
    "kernelspec": {
      "name": "python3",
      "display_name": "Python 3"
    },
    "language_info": {
      "name": "python"
    }
  },
  "cells": [
    {
      "cell_type": "markdown",
      "metadata": {
        "id": "EuLa87uEm0Hn"
      },
      "source": [
        "## Praveen Nayak\n",
        "**Implementing the below ANN alogorithms**\n",
        "\n",
        "1. Exhaustive Search\n",
        "2. Product Quantization\n",
        "3. Trees and Graphs\n",
        "4. LSH: Locality-sensitive hashing\n",
        "5. HSNW: Hierarchical Navigable Small World : https://github.com/nayak-codebase/Use-Of-State-Of-Art-Libraries-For-ANN"
      ]
    },
    {
      "cell_type": "markdown",
      "metadata": {
        "id": "rOzXAfSYn6IO"
      },
      "source": [
        "**Implementing above all using Faiss**"
      ]
    },
    {
      "cell_type": "code",
      "metadata": {
        "colab": {
          "base_uri": "https://localhost:8080/"
        },
        "id": "5OInxTWplJtZ",
        "outputId": "0f73a1b0-0369-4871-b33e-8ef4cfa580a6"
      },
      "source": [
        "!pip install faiss"
      ],
      "execution_count": null,
      "outputs": [
        {
          "output_type": "stream",
          "name": "stdout",
          "text": [
            "Requirement already satisfied: faiss in /usr/local/lib/python3.7/dist-packages (1.5.3)\n",
            "Requirement already satisfied: numpy in /usr/local/lib/python3.7/dist-packages (from faiss) (1.19.5)\n"
          ]
        }
      ]
    },
    {
      "cell_type": "code",
      "metadata": {
        "colab": {
          "base_uri": "https://localhost:8080/"
        },
        "id": "FVWyLVZZw6Ic",
        "outputId": "385af64e-3e97-4a82-bd07-14df802e9031"
      },
      "source": [
        "!pip3 install faiss\n",
        "!sudo apt-get install libopenblas-dev\n",
        "!sudo apt-get install libomp-dev"
      ],
      "execution_count": null,
      "outputs": [
        {
          "output_type": "stream",
          "name": "stdout",
          "text": [
            "Requirement already satisfied: faiss in /usr/local/lib/python3.7/dist-packages (1.5.3)\n",
            "Requirement already satisfied: numpy in /usr/local/lib/python3.7/dist-packages (from faiss) (1.19.5)\n",
            "Reading package lists... Done\n",
            "Building dependency tree       \n",
            "Reading state information... Done\n",
            "libopenblas-dev is already the newest version (0.2.20+ds-4).\n",
            "0 upgraded, 0 newly installed, 0 to remove and 37 not upgraded.\n",
            "Reading package lists... Done\n",
            "Building dependency tree       \n",
            "Reading state information... Done\n",
            "libomp-dev is already the newest version (5.0.1-1).\n",
            "0 upgraded, 0 newly installed, 0 to remove and 37 not upgraded.\n"
          ]
        }
      ]
    },
    {
      "cell_type": "code",
      "metadata": {
        "id": "Md6V_Ehlxl3o"
      },
      "source": [
        "import faiss\n",
        "import pickle\n",
        "import pandas as pd\n"
      ],
      "execution_count": null,
      "outputs": []
    },
    {
      "cell_type": "code",
      "metadata": {
        "colab": {
          "base_uri": "https://localhost:8080/"
        },
        "id": "NR9G9UMaQL5Y",
        "outputId": "64560a11-f90b-4319-8ca5-be6822c23e63"
      },
      "source": [
        "!pwd"
      ],
      "execution_count": null,
      "outputs": [
        {
          "output_type": "stream",
          "name": "stdout",
          "text": [
            "/content\n"
          ]
        }
      ]
    },
    {
      "cell_type": "code",
      "metadata": {
        "colab": {
          "base_uri": "https://localhost:8080/"
        },
        "id": "RnjlFvi-QU36",
        "outputId": "1a96638e-ccb2-459d-d1f6-1a31b0cf39d8"
      },
      "source": [
        "!ls\n"
      ],
      "execution_count": null,
      "outputs": [
        {
          "output_type": "stream",
          "name": "stdout",
          "text": [
            "drive  movies.pickle  sample_data\n"
          ]
        }
      ]
    },
    {
      "cell_type": "markdown",
      "metadata": {
        "id": "ltV2efTPRhRU"
      },
      "source": [
        " ## Load dataset which already consists of movie labels"
      ]
    },
    {
      "cell_type": "code",
      "metadata": {
        "colab": {
          "base_uri": "https://localhost:8080/"
        },
        "id": "SLJQTQhYQX6V",
        "outputId": "a243065e-cc0e-49b4-a679-eae65730df8a"
      },
      "source": [
        "def data_set():\n",
        "    with open('movies.pickle', 'rb') as f:\n",
        "        data = pickle.load(f)\n",
        "    return data\n",
        "\n",
        "data = data_set()\n",
        "vectors = data[\"vector\"]\n",
        "names = data[\"name\"]\n",
        "data"
      ],
      "execution_count": null,
      "outputs": [
        {
          "output_type": "execute_result",
          "data": {
            "text/plain": [
              "{'name': array(['Toy Story (1995)', 'GoldenEye (1995)', 'Four Rooms (1995)', ...,\n",
              "        'Sliding Doors (1998)', 'You So Crazy (1994)',\n",
              "        'Scream of Stone (Schrei aus Stein) (1991)'], dtype=object),\n",
              " 'vector': array([[-0.01780608, -0.14265831,  0.10308606, ...,  0.09659795,\n",
              "         -0.17529577, -0.03061521],\n",
              "        [-0.03357764,  0.16418771,  0.21801303, ...,  0.16502103,\n",
              "         -0.09166156,  0.05047869],\n",
              "        [-0.2761452 , -0.01991325, -0.04969981, ...,  0.0258275 ,\n",
              "         -0.08328608, -0.0152858 ],\n",
              "        ...,\n",
              "        [ 0.05142734, -0.01683608, -0.20441587, ...,  0.00045828,\n",
              "          0.14679626,  0.2462584 ],\n",
              "        [ 0.04491899, -0.02819411, -0.09472758, ..., -0.02152078,\n",
              "          0.16223577,  0.19897607],\n",
              "        [ 0.02531924,  0.03099714,  0.06437534, ..., -0.07260127,\n",
              "          0.0467432 ,  0.07893164]], dtype=float32)}"
            ]
          },
          "metadata": {},
          "execution_count": 21
        }
      ]
    },
    {
      "cell_type": "markdown",
      "metadata": {
        "id": "P4dvzvdZStYF"
      },
      "source": [
        "## Exhaustive Search with faiss\n",
        "\n",
        "Comparing each point to every other point, which will require Linear query time (the size of the dataset)"
      ]
    },
    {
      "cell_type": "code",
      "metadata": {
        "id": "HDaSb4SAHPMR"
      },
      "source": [
        "class BruteForceIndex():\n",
        "    def __init__(self, vectors, labels):\n",
        "        self.vectors = vectors.astype('float32')\n",
        "        self.labels = labels\n",
        "        self.index = faiss.IndexFlatL2(vectors.shape[1])\n",
        "        self.index.add(self.vectors)\n",
        "        \n",
        "    def query(self, vectors, k=10):\n",
        "        distances, indices = self.index.search(vectors, k) \n",
        "        return [self.labels[i] for i in indices[0]]"
      ],
      "execution_count": null,
      "outputs": []
    },
    {
      "cell_type": "markdown",
      "metadata": {
        "id": "3RjDeJ1oTiz0"
      },
      "source": [
        "## Build index on the movie dataset"
      ]
    },
    {
      "cell_type": "code",
      "metadata": {
        "id": "rlpfABdtS1MG"
      },
      "source": [
        "index = BruteForceIndex(data[\"vector\"], data[\"name\"])\n",
        "#index.build()"
      ],
      "execution_count": null,
      "outputs": []
    },
    {
      "cell_type": "markdown",
      "metadata": {
        "id": "w2dDWEgaTnek"
      },
      "source": [
        "## Query similar movie names"
      ]
    },
    {
      "cell_type": "code",
      "metadata": {
        "colab": {
          "base_uri": "https://localhost:8080/"
        },
        "id": "UaX7HsfCS39-",
        "outputId": "645b1afc-3166-465f-f43c-a839c433f235"
      },
      "source": [
        "movie_vector, movie_name = data['vector'][80:91], data['name'][80]\n",
        "simlar_movies_names = '\\n* '.join(index.query(movie_vector))\n",
        "print(f\"The most similar movies to {movie_name} are:\\n* {simlar_movies_names}\")\n"
      ],
      "execution_count": null,
      "outputs": [
        {
          "output_type": "stream",
          "name": "stdout",
          "text": [
            "The most similar movies to Hudsucker Proxy, The (1994) are:\n",
            "* Hudsucker Proxy, The (1994)\n",
            "* Bob Roberts (1992)\n",
            "* Ed Wood (1994)\n",
            "* Heathers (1989)\n",
            "* This Is Spinal Tap (1984)\n",
            "* Sirens (1994)\n",
            "* In the Name of the Father (1993)\n",
            "* Vanya on 42nd Street (1994)\n",
            "* Quiz Show (1994)\n",
            "* What's Eating Gilbert Grape (1993)\n"
          ]
        }
      ]
    },
    {
      "cell_type": "markdown",
      "metadata": {
        "id": "PX5Zx179UNGd"
      },
      "source": [
        "## Product Quantization\n",
        "\n",
        "Product quantization is an effective vector quantization approach to compactly encode high-dimensional vectors for fast approximate nearest neighbor (ANN) search."
      ]
    },
    {
      "cell_type": "code",
      "metadata": {
        "id": "35hkPfUVTSNw"
      },
      "source": [
        "class PQIndex():\n",
        "    def __init__(self, vectors, labels):\n",
        "        self.dimention = vectors.shape[1]\n",
        "        self.vectors = vectors.astype('float32')\n",
        "        self.labels = labels\n",
        "\n",
        "\n",
        "    def build(self, number_of_partition=8, search_in_x_partitions=2, subvector_size=8):\n",
        "        quantizer = faiss.IndexFlatL2(self.dimention)\n",
        "        self.index = faiss.IndexIVFPQ(quantizer, \n",
        "                                      self.dimention, \n",
        "                                      number_of_partition, \n",
        "                                      search_in_x_partitions, \n",
        "                                      subvector_size)\n",
        "        self.index.train(self.vectors)\n",
        "        self.index.add(self.vectors)\n",
        "        \n",
        "    def query(self, vectors, k=10):\n",
        "        distances, indices = self.index.search(vectors, k) \n",
        "        return [self.labels[i] for i in indices[0]]"
      ],
      "execution_count": null,
      "outputs": []
    },
    {
      "cell_type": "markdown",
      "metadata": {
        "id": "vi4OnCehT1tN"
      },
      "source": [
        "## Build index on movie dataset"
      ]
    },
    {
      "cell_type": "code",
      "metadata": {
        "id": "j0qqwUWDUfB8"
      },
      "source": [
        "index = PQIndex(data[\"vector\"], data[\"name\"])\n",
        "index.build()"
      ],
      "execution_count": null,
      "outputs": []
    },
    {
      "cell_type": "markdown",
      "metadata": {
        "id": "GLM6TNptT9zE"
      },
      "source": [
        "## Query movie names from dataset"
      ]
    },
    {
      "cell_type": "code",
      "metadata": {
        "colab": {
          "base_uri": "https://localhost:8080/"
        },
        "id": "A-cYh2_dUh8S",
        "outputId": "8634249b-d95f-4e93-8d6d-bbd1f7559f28"
      },
      "source": [
        "movie_index = 80\n",
        "movie_vector = data['vector'][movie_index:movie_index+1]\n",
        "print(f\"The most simillar movies to {data['name'][movie_index]} are:\")\n",
        "index.query(movie_vector)"
      ],
      "execution_count": null,
      "outputs": [
        {
          "output_type": "stream",
          "name": "stdout",
          "text": [
            "The most simillar movies to Hudsucker Proxy, The (1994) are:\n"
          ]
        },
        {
          "output_type": "execute_result",
          "data": {
            "text/plain": [
              "['Hudsucker Proxy, The (1994)',\n",
              " 'Bob Roberts (1992)',\n",
              " 'Secret Garden, The (1993)',\n",
              " 'Ed Wood (1994)',\n",
              " 'Bullets Over Broadway (1994)',\n",
              " 'Nikita (La Femme Nikita) (1990)',\n",
              " 'Harold and Maude (1971)',\n",
              " 'Sirens (1994)',\n",
              " \"Microcosmos: Le peuple de l'herbe (1996)\",\n",
              " 'Fearless (1993)']"
            ]
          },
          "metadata": {},
          "execution_count": 27
        }
      ]
    },
    {
      "cell_type": "markdown",
      "metadata": {
        "id": "RaT8LfBhk0yV"
      },
      "source": [
        "## Trees and Graph with Annoy library"
      ]
    },
    {
      "cell_type": "code",
      "metadata": {
        "colab": {
          "base_uri": "https://localhost:8080/"
        },
        "id": "ayXy09yRtgUo",
        "outputId": "50f0ae06-babd-4568-cda6-aff1b1959a64"
      },
      "source": [
        "!pip install annoy"
      ],
      "execution_count": null,
      "outputs": [
        {
          "output_type": "stream",
          "name": "stdout",
          "text": [
            "Collecting annoy\n",
            "  Downloading annoy-1.17.0.tar.gz (646 kB)\n",
            "\u001b[?25l\r\u001b[K     |▌                               | 10 kB 29.6 MB/s eta 0:00:01\r\u001b[K     |█                               | 20 kB 33.8 MB/s eta 0:00:01\r\u001b[K     |█▌                              | 30 kB 37.8 MB/s eta 0:00:01\r\u001b[K     |██                              | 40 kB 37.6 MB/s eta 0:00:01\r\u001b[K     |██▌                             | 51 kB 36.9 MB/s eta 0:00:01\r\u001b[K     |███                             | 61 kB 37.1 MB/s eta 0:00:01\r\u001b[K     |███▌                            | 71 kB 38.8 MB/s eta 0:00:01\r\u001b[K     |████                            | 81 kB 39.0 MB/s eta 0:00:01\r\u001b[K     |████▋                           | 92 kB 40.6 MB/s eta 0:00:01\r\u001b[K     |█████                           | 102 kB 39.0 MB/s eta 0:00:01\r\u001b[K     |█████▋                          | 112 kB 39.0 MB/s eta 0:00:01\r\u001b[K     |██████                          | 122 kB 39.0 MB/s eta 0:00:01\r\u001b[K     |██████▋                         | 133 kB 39.0 MB/s eta 0:00:01\r\u001b[K     |███████                         | 143 kB 39.0 MB/s eta 0:00:01\r\u001b[K     |███████▋                        | 153 kB 39.0 MB/s eta 0:00:01\r\u001b[K     |████████▏                       | 163 kB 39.0 MB/s eta 0:00:01\r\u001b[K     |████████▋                       | 174 kB 39.0 MB/s eta 0:00:01\r\u001b[K     |█████████▏                      | 184 kB 39.0 MB/s eta 0:00:01\r\u001b[K     |█████████▋                      | 194 kB 39.0 MB/s eta 0:00:01\r\u001b[K     |██████████▏                     | 204 kB 39.0 MB/s eta 0:00:01\r\u001b[K     |██████████▋                     | 215 kB 39.0 MB/s eta 0:00:01\r\u001b[K     |███████████▏                    | 225 kB 39.0 MB/s eta 0:00:01\r\u001b[K     |███████████▋                    | 235 kB 39.0 MB/s eta 0:00:01\r\u001b[K     |████████████▏                   | 245 kB 39.0 MB/s eta 0:00:01\r\u001b[K     |████████████▊                   | 256 kB 39.0 MB/s eta 0:00:01\r\u001b[K     |█████████████▏                  | 266 kB 39.0 MB/s eta 0:00:01\r\u001b[K     |█████████████▊                  | 276 kB 39.0 MB/s eta 0:00:01\r\u001b[K     |██████████████▏                 | 286 kB 39.0 MB/s eta 0:00:01\r\u001b[K     |██████████████▊                 | 296 kB 39.0 MB/s eta 0:00:01\r\u001b[K     |███████████████▏                | 307 kB 39.0 MB/s eta 0:00:01\r\u001b[K     |███████████████▊                | 317 kB 39.0 MB/s eta 0:00:01\r\u001b[K     |████████████████▎               | 327 kB 39.0 MB/s eta 0:00:01\r\u001b[K     |████████████████▊               | 337 kB 39.0 MB/s eta 0:00:01\r\u001b[K     |█████████████████▎              | 348 kB 39.0 MB/s eta 0:00:01\r\u001b[K     |█████████████████▊              | 358 kB 39.0 MB/s eta 0:00:01\r\u001b[K     |██████████████████▎             | 368 kB 39.0 MB/s eta 0:00:01\r\u001b[K     |██████████████████▊             | 378 kB 39.0 MB/s eta 0:00:01\r\u001b[K     |███████████████████▎            | 389 kB 39.0 MB/s eta 0:00:01\r\u001b[K     |███████████████████▊            | 399 kB 39.0 MB/s eta 0:00:01\r\u001b[K     |████████████████████▎           | 409 kB 39.0 MB/s eta 0:00:01\r\u001b[K     |████████████████████▉           | 419 kB 39.0 MB/s eta 0:00:01\r\u001b[K     |█████████████████████▎          | 430 kB 39.0 MB/s eta 0:00:01\r\u001b[K     |█████████████████████▉          | 440 kB 39.0 MB/s eta 0:00:01\r\u001b[K     |██████████████████████▎         | 450 kB 39.0 MB/s eta 0:00:01\r\u001b[K     |██████████████████████▉         | 460 kB 39.0 MB/s eta 0:00:01\r\u001b[K     |███████████████████████▎        | 471 kB 39.0 MB/s eta 0:00:01\r\u001b[K     |███████████████████████▉        | 481 kB 39.0 MB/s eta 0:00:01\r\u001b[K     |████████████████████████▍       | 491 kB 39.0 MB/s eta 0:00:01\r\u001b[K     |████████████████████████▉       | 501 kB 39.0 MB/s eta 0:00:01\r\u001b[K     |█████████████████████████▍      | 512 kB 39.0 MB/s eta 0:00:01\r\u001b[K     |█████████████████████████▉      | 522 kB 39.0 MB/s eta 0:00:01\r\u001b[K     |██████████████████████████▍     | 532 kB 39.0 MB/s eta 0:00:01\r\u001b[K     |██████████████████████████▉     | 542 kB 39.0 MB/s eta 0:00:01\r\u001b[K     |███████████████████████████▍    | 552 kB 39.0 MB/s eta 0:00:01\r\u001b[K     |███████████████████████████▉    | 563 kB 39.0 MB/s eta 0:00:01\r\u001b[K     |████████████████████████████▍   | 573 kB 39.0 MB/s eta 0:00:01\r\u001b[K     |█████████████████████████████   | 583 kB 39.0 MB/s eta 0:00:01\r\u001b[K     |█████████████████████████████▍  | 593 kB 39.0 MB/s eta 0:00:01\r\u001b[K     |██████████████████████████████  | 604 kB 39.0 MB/s eta 0:00:01\r\u001b[K     |██████████████████████████████▍ | 614 kB 39.0 MB/s eta 0:00:01\r\u001b[K     |███████████████████████████████ | 624 kB 39.0 MB/s eta 0:00:01\r\u001b[K     |███████████████████████████████▍| 634 kB 39.0 MB/s eta 0:00:01\r\u001b[K     |████████████████████████████████| 645 kB 39.0 MB/s eta 0:00:01\r\u001b[K     |████████████████████████████████| 646 kB 39.0 MB/s \n",
            "\u001b[?25hBuilding wheels for collected packages: annoy\n",
            "  Building wheel for annoy (setup.py) ... \u001b[?25l\u001b[?25hdone\n",
            "  Created wheel for annoy: filename=annoy-1.17.0-cp37-cp37m-linux_x86_64.whl size=391692 sha256=8446334f34f319356fb11f10aef935390304f58c32365c083e9043ea7fb7a50d\n",
            "  Stored in directory: /root/.cache/pip/wheels/4f/e8/1e/7cc9ebbfa87a3b9f8ba79408d4d31831d67eea918b679a4c07\n",
            "Successfully built annoy\n",
            "Installing collected packages: annoy\n",
            "Successfully installed annoy-1.17.0\n"
          ]
        }
      ]
    },
    {
      "cell_type": "code",
      "metadata": {
        "id": "8fmTEoBeueLd"
      },
      "source": [
        "import annoy\n",
        "class AnnoyIndex():\n",
        "    def __init__(self, vectors, labels):\n",
        "        self.dimention = vectors.shape[1]\n",
        "        self.vectors = vectors.astype('float32')\n",
        "        self.labels = labels\n",
        "\n",
        "\n",
        "    def build(self, number_of_trees=5):\n",
        "        self.index = annoy.AnnoyIndex(self.dimention)\n",
        "        for i, vec in enumerate(self.vectors):\n",
        "            self.index.add_item(i, vec.tolist())\n",
        "        self.index.build(number_of_trees)\n",
        "        \n",
        "    def query(self, vector, k=10):\n",
        "        indices = self.index.get_nns_by_vector(vector.tolist(), k)\n",
        "        return [self.labels[i] for i in indices]"
      ],
      "execution_count": null,
      "outputs": []
    },
    {
      "cell_type": "markdown",
      "metadata": {
        "id": "BKVlSNtOUPNc"
      },
      "source": [
        "## Build index on movie dataset"
      ]
    },
    {
      "cell_type": "code",
      "metadata": {
        "colab": {
          "base_uri": "https://localhost:8080/"
        },
        "id": "0E2J14Ecuqj3",
        "outputId": "6c16d85d-88c9-4a78-f54f-bb3339b52d59"
      },
      "source": [
        "index = AnnoyIndex(data[\"vector\"], data[\"name\"])\n",
        "index.build()"
      ],
      "execution_count": null,
      "outputs": [
        {
          "output_type": "stream",
          "name": "stderr",
          "text": [
            "/usr/local/lib/python3.7/dist-packages/ipykernel_launcher.py:10: FutureWarning: The default argument for metric will be removed in future version of Annoy. Please pass metric='angular' explicitly.\n",
            "  # Remove the CWD from sys.path while we load stuff.\n"
          ]
        }
      ]
    },
    {
      "cell_type": "markdown",
      "metadata": {
        "id": "ghVcMKXzUU_k"
      },
      "source": [
        "Query movie names from dataset"
      ]
    },
    {
      "cell_type": "code",
      "metadata": {
        "colab": {
          "base_uri": "https://localhost:8080/"
        },
        "id": "Uc3-ixjWu2Dm",
        "outputId": "8a21dae0-1f12-46f9-da7d-5acc2f8fce8b"
      },
      "source": [
        "movie_vector, movie_name = data['vector'][70], data['name'][70]\n",
        "simlar_movies_names = '\\n* '.join(index.query(movie_vector))\n",
        "print(f\"The most similar movies to {movie_name} are:\\n* {simlar_movies_names}\")"
      ],
      "execution_count": null,
      "outputs": [
        {
          "output_type": "stream",
          "name": "stdout",
          "text": [
            "The most similar movies to Lion King, The (1994) are:\n",
            "* Lion King, The (1994)\n",
            "* Aladdin (1992)\n",
            "* Snow White and the Seven Dwarfs (1937)\n",
            "* Beauty and the Beast (1991)\n",
            "* Dumbo (1941)\n",
            "* Cinderella (1950)\n",
            "* Fantasia (1940)\n",
            "* Sound of Music, The (1965)\n",
            "* Pinocchio (1940)\n",
            "* E.T. the Extra-Terrestrial (1982)\n"
          ]
        }
      ]
    },
    {
      "cell_type": "markdown",
      "metadata": {
        "id": "tlUxysnxsf3t"
      },
      "source": [
        "## LSH index class\n",
        "**LSH-based** algorithms are one of the most common strategies when it comes to ANN. They construct a hash table as their data structure by mapping points that are nearby into the same bucket.\n"
      ]
    },
    {
      "cell_type": "code",
      "metadata": {
        "id": "-JFvdWRYwwlX"
      },
      "source": [
        "class LSHIndex():\n",
        "    def __init__(self, vectors, labels):\n",
        "        self.dimension = vectors.shape[1]\n",
        "        self.vectors = vectors.astype('float32')\n",
        "        self.labels = labels    \n",
        "   \n",
        "    def build(self, num_bits=8):\n",
        "        self.index = faiss.IndexLSH(self.dimension, num_bits)\n",
        "        self.index.add(self.vectors)\n",
        "        \n",
        "    def query(self, vectors, k=10):\n",
        "        distances, indices = self.index.search(vectors, k) \n",
        "        # I expect only query on one vector thus the slice\n",
        "        return [self.labels[i] for i in indices[0]]"
      ],
      "execution_count": null,
      "outputs": []
    },
    {
      "cell_type": "code",
      "metadata": {
        "id": "mDjTaZQzdqRc"
      },
      "source": [
        "index = LSHIndex(data[\"vector\"], data[\"name\"])\n",
        "index.build()"
      ],
      "execution_count": null,
      "outputs": []
    },
    {
      "cell_type": "code",
      "metadata": {
        "colab": {
          "base_uri": "https://localhost:8080/"
        },
        "id": "WyeGCxlmt7u2",
        "outputId": "17e7e4e4-3b30-4a29-8f38-4908e8f16d14"
      },
      "source": [
        "data[\"vector\"]"
      ],
      "execution_count": null,
      "outputs": [
        {
          "output_type": "execute_result",
          "data": {
            "text/plain": [
              "array([[-0.01780608, -0.14265831,  0.10308606, ...,  0.09659795,\n",
              "        -0.17529577, -0.03061521],\n",
              "       [-0.03357764,  0.16418771,  0.21801303, ...,  0.16502103,\n",
              "        -0.09166156,  0.05047869],\n",
              "       [-0.2761452 , -0.01991325, -0.04969981, ...,  0.0258275 ,\n",
              "        -0.08328608, -0.0152858 ],\n",
              "       ...,\n",
              "       [ 0.05142734, -0.01683608, -0.20441587, ...,  0.00045828,\n",
              "         0.14679626,  0.2462584 ],\n",
              "       [ 0.04491899, -0.02819411, -0.09472758, ..., -0.02152078,\n",
              "         0.16223577,  0.19897607],\n",
              "       [ 0.02531924,  0.03099714,  0.06437534, ..., -0.07260127,\n",
              "         0.0467432 ,  0.07893164]], dtype=float32)"
            ]
          },
          "metadata": {},
          "execution_count": 49
        }
      ]
    },
    {
      "cell_type": "markdown",
      "metadata": {
        "id": "aLJ16_iwUq_M"
      },
      "source": [
        "## Query data"
      ]
    },
    {
      "cell_type": "code",
      "metadata": {
        "colab": {
          "base_uri": "https://localhost:8080/"
        },
        "id": "yEKOySORdtm1",
        "outputId": "da6b1407-1fc0-4c31-e6d3-57f283de8bfb"
      },
      "source": [
        "index.query(data['vector'])"
      ],
      "execution_count": null,
      "outputs": [
        {
          "output_type": "execute_result",
          "data": {
            "text/plain": [
              "['Supercop (1992)',\n",
              " 'Rumble in the Bronx (1995)',\n",
              " 'Mission: Impossible (1996)',\n",
              " 'Four Rooms (1995)',\n",
              " 'Donnie Brasco (1997)',\n",
              " 'Cold Comfort Farm (1995)',\n",
              " 'Toy Story (1995)',\n",
              " 'Angels and Insects (1995)',\n",
              " 'Twelve Monkeys (1995)',\n",
              " 'Lone Star (1996)']"
            ]
          },
          "metadata": {},
          "execution_count": 50
        }
      ]
    },
    {
      "cell_type": "markdown",
      "metadata": {
        "id": "Uly5EabCRDl_"
      },
      "source": [
        "## HSNW: Hierarchical Navigable Small World : https://github.com/nayak-codebase/Use-Of-State-Of-Art-Libraries-For-ANN"
      ]
    }
  ]
}